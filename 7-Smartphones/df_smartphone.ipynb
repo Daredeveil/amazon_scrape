{
    "cells": [
        {
            "cell_type": "code",
            "execution_count": 1,
            "source": [
                "import numpy as np\n",
                "import pandas as pd\n",
                "\n",
                "import warnings\n",
                "warnings.filterwarnings(\"ignore\")"
            ],
            "outputs": [],
            "metadata": {}
        },
        {
            "cell_type": "code",
            "execution_count": 2,
            "source": [
                "# Create DataFrame from output_json file for laptop\n",
                "\n",
                "df = pd.read_json('search_output_smartphone.jsonl')\n",
                "df"
            ],
            "outputs": [
                {
                    "output_type": "execute_result",
                    "data": {
                        "text/plain": [
                            "                                                  title  \\\n",
                            "0     6.8 Inch Unlocked Smartphones,Xgody K30 Androi...   \n",
                            "1     Xgody Mate40 Smartphone Unlocked, 6.72” HD Per...   \n",
                            "2     TCL 20 SE 6.82\" Unlocked Cellphone, 4GB RAM + ...   \n",
                            "3     Xiaomi POCO M3 Smartphone, 4 GB + 128 GB, 6.53...   \n",
                            "4     TCL 20 Pro 5G Unlocked Android Smartphone with...   \n",
                            "...                                                 ...   \n",
                            "2436  Unlocked Android Phones, CUBOT X19 Unlocked Ce...   \n",
                            "2437  Xgody S20 Lite Unlocked Smartphone, Dual Sim U...   \n",
                            "2438  Rugged Smartphone Unlocked, Ulefone Armor 8 Pr...   \n",
                            "2439  Uleway 3G Flip Phone for Seniors Prepaid Flip ...   \n",
                            "2440  Xgody Mate40 Smartphone Unlocked, 6.72” HD Per...   \n",
                            "\n",
                            "                                                    url              rating  \\\n",
                            "0     https://www.amazon.com/gp/slredirect/picassoRe...  2.9 out of 5 stars   \n",
                            "1     https://www.amazon.com/gp/slredirect/picassoRe...  3.1 out of 5 stars   \n",
                            "2     https://www.amazon.com/gp/slredirect/picassoRe...  4.2 out of 5 stars   \n",
                            "3     https://www.amazon.com/Xiaomi-POCO-M3-Smartpho...  4.7 out of 5 stars   \n",
                            "4     https://www.amazon.com/TCL-Unlocked-Smartphone...  4.5 out of 5 stars   \n",
                            "...                                                 ...                 ...   \n",
                            "2436  https://www.amazon.com/gp/slredirect/picassoRe...  3.7 out of 5 stars   \n",
                            "2437  https://www.amazon.com/gp/slredirect/picassoRe...  3.0 out of 5 stars   \n",
                            "2438  https://www.amazon.com/gp/slredirect/picassoRe...  3.6 out of 5 stars   \n",
                            "2439  https://www.amazon.com/gp/slredirect/picassoRe...  3.5 out of 5 stars   \n",
                            "2440  https://www.amazon.com/gp/slredirect/picassoRe...  3.1 out of 5 stars   \n",
                            "\n",
                            "     review_count    price  \n",
                            "0             536   $83.99  \n",
                            "1              40   $67.99  \n",
                            "2             196  $189.99  \n",
                            "3             375     None  \n",
                            "4              47  $529.99  \n",
                            "...           ...      ...  \n",
                            "2436          632  $119.99  \n",
                            "2437           29   $70.99  \n",
                            "2438            7  $249.99  \n",
                            "2439          240   $55.99  \n",
                            "2440           40   $68.99  \n",
                            "\n",
                            "[2441 rows x 5 columns]"
                        ],
                        "text/html": [
                            "<div>\n",
                            "<style scoped>\n",
                            "    .dataframe tbody tr th:only-of-type {\n",
                            "        vertical-align: middle;\n",
                            "    }\n",
                            "\n",
                            "    .dataframe tbody tr th {\n",
                            "        vertical-align: top;\n",
                            "    }\n",
                            "\n",
                            "    .dataframe thead th {\n",
                            "        text-align: right;\n",
                            "    }\n",
                            "</style>\n",
                            "<table border=\"1\" class=\"dataframe\">\n",
                            "  <thead>\n",
                            "    <tr style=\"text-align: right;\">\n",
                            "      <th></th>\n",
                            "      <th>title</th>\n",
                            "      <th>url</th>\n",
                            "      <th>rating</th>\n",
                            "      <th>review_count</th>\n",
                            "      <th>price</th>\n",
                            "    </tr>\n",
                            "  </thead>\n",
                            "  <tbody>\n",
                            "    <tr>\n",
                            "      <th>0</th>\n",
                            "      <td>6.8 Inch Unlocked Smartphones,Xgody K30 Androi...</td>\n",
                            "      <td>https://www.amazon.com/gp/slredirect/picassoRe...</td>\n",
                            "      <td>2.9 out of 5 stars</td>\n",
                            "      <td>536</td>\n",
                            "      <td>$83.99</td>\n",
                            "    </tr>\n",
                            "    <tr>\n",
                            "      <th>1</th>\n",
                            "      <td>Xgody Mate40 Smartphone Unlocked, 6.72” HD Per...</td>\n",
                            "      <td>https://www.amazon.com/gp/slredirect/picassoRe...</td>\n",
                            "      <td>3.1 out of 5 stars</td>\n",
                            "      <td>40</td>\n",
                            "      <td>$67.99</td>\n",
                            "    </tr>\n",
                            "    <tr>\n",
                            "      <th>2</th>\n",
                            "      <td>TCL 20 SE 6.82\" Unlocked Cellphone, 4GB RAM + ...</td>\n",
                            "      <td>https://www.amazon.com/gp/slredirect/picassoRe...</td>\n",
                            "      <td>4.2 out of 5 stars</td>\n",
                            "      <td>196</td>\n",
                            "      <td>$189.99</td>\n",
                            "    </tr>\n",
                            "    <tr>\n",
                            "      <th>3</th>\n",
                            "      <td>Xiaomi POCO M3 Smartphone, 4 GB + 128 GB, 6.53...</td>\n",
                            "      <td>https://www.amazon.com/Xiaomi-POCO-M3-Smartpho...</td>\n",
                            "      <td>4.7 out of 5 stars</td>\n",
                            "      <td>375</td>\n",
                            "      <td>None</td>\n",
                            "    </tr>\n",
                            "    <tr>\n",
                            "      <th>4</th>\n",
                            "      <td>TCL 20 Pro 5G Unlocked Android Smartphone with...</td>\n",
                            "      <td>https://www.amazon.com/TCL-Unlocked-Smartphone...</td>\n",
                            "      <td>4.5 out of 5 stars</td>\n",
                            "      <td>47</td>\n",
                            "      <td>$529.99</td>\n",
                            "    </tr>\n",
                            "    <tr>\n",
                            "      <th>...</th>\n",
                            "      <td>...</td>\n",
                            "      <td>...</td>\n",
                            "      <td>...</td>\n",
                            "      <td>...</td>\n",
                            "      <td>...</td>\n",
                            "    </tr>\n",
                            "    <tr>\n",
                            "      <th>2436</th>\n",
                            "      <td>Unlocked Android Phones, CUBOT X19 Unlocked Ce...</td>\n",
                            "      <td>https://www.amazon.com/gp/slredirect/picassoRe...</td>\n",
                            "      <td>3.7 out of 5 stars</td>\n",
                            "      <td>632</td>\n",
                            "      <td>$119.99</td>\n",
                            "    </tr>\n",
                            "    <tr>\n",
                            "      <th>2437</th>\n",
                            "      <td>Xgody S20 Lite Unlocked Smartphone, Dual Sim U...</td>\n",
                            "      <td>https://www.amazon.com/gp/slredirect/picassoRe...</td>\n",
                            "      <td>3.0 out of 5 stars</td>\n",
                            "      <td>29</td>\n",
                            "      <td>$70.99</td>\n",
                            "    </tr>\n",
                            "    <tr>\n",
                            "      <th>2438</th>\n",
                            "      <td>Rugged Smartphone Unlocked, Ulefone Armor 8 Pr...</td>\n",
                            "      <td>https://www.amazon.com/gp/slredirect/picassoRe...</td>\n",
                            "      <td>3.6 out of 5 stars</td>\n",
                            "      <td>7</td>\n",
                            "      <td>$249.99</td>\n",
                            "    </tr>\n",
                            "    <tr>\n",
                            "      <th>2439</th>\n",
                            "      <td>Uleway 3G Flip Phone for Seniors Prepaid Flip ...</td>\n",
                            "      <td>https://www.amazon.com/gp/slredirect/picassoRe...</td>\n",
                            "      <td>3.5 out of 5 stars</td>\n",
                            "      <td>240</td>\n",
                            "      <td>$55.99</td>\n",
                            "    </tr>\n",
                            "    <tr>\n",
                            "      <th>2440</th>\n",
                            "      <td>Xgody Mate40 Smartphone Unlocked, 6.72” HD Per...</td>\n",
                            "      <td>https://www.amazon.com/gp/slredirect/picassoRe...</td>\n",
                            "      <td>3.1 out of 5 stars</td>\n",
                            "      <td>40</td>\n",
                            "      <td>$68.99</td>\n",
                            "    </tr>\n",
                            "  </tbody>\n",
                            "</table>\n",
                            "<p>2441 rows × 5 columns</p>\n",
                            "</div>"
                        ]
                    },
                    "metadata": {},
                    "execution_count": 2
                }
            ],
            "metadata": {}
        },
        {
            "cell_type": "markdown",
            "source": [
                "## Performing following operations on the DataFrame\n",
                "- Checking data type for the columns\n",
                "- Price column: remove '$' and ',', also change the type to float\n",
                "- Review_count cloumn: remove ',', also change the type to float\n",
                "- Rating column: Extract ONLY product rating form the column\n",
                "\n",
                "- Check null values for the columns. Remove rows without price, rating and review_count\n",
                "- Remove duplicate rows\n",
                "\n",
                "- Add Product column and write 'processor' in it"
            ],
            "metadata": {}
        },
        {
            "cell_type": "code",
            "execution_count": 3,
            "source": [
                "df = df.drop_duplicates(subset=['title'])\n",
                "df"
            ],
            "outputs": [
                {
                    "output_type": "execute_result",
                    "data": {
                        "text/plain": [
                            "                                                  title  \\\n",
                            "0     6.8 Inch Unlocked Smartphones,Xgody K30 Androi...   \n",
                            "1     Xgody Mate40 Smartphone Unlocked, 6.72” HD Per...   \n",
                            "2     TCL 20 SE 6.82\" Unlocked Cellphone, 4GB RAM + ...   \n",
                            "3     Xiaomi POCO M3 Smartphone, 4 GB + 128 GB, 6.53...   \n",
                            "4     TCL 20 Pro 5G Unlocked Android Smartphone with...   \n",
                            "...                                                 ...   \n",
                            "2352  LG Motion 4G LTE Prepaid Android Phone (MetroPCS)   \n",
                            "2353                         Blu LIFE 8 Unlocked (Pink)   \n",
                            "2354                       Blu Dash 5.5 Unlocked (Blue)   \n",
                            "2355                 Nokia Lumia 920, Black 32GB (AT&T)   \n",
                            "2356         Samsung Galaxy Rugby Pro, Black 8GB (AT&T)   \n",
                            "\n",
                            "                                                    url              rating  \\\n",
                            "0     https://www.amazon.com/gp/slredirect/picassoRe...  2.9 out of 5 stars   \n",
                            "1     https://www.amazon.com/gp/slredirect/picassoRe...  3.1 out of 5 stars   \n",
                            "2     https://www.amazon.com/gp/slredirect/picassoRe...  4.2 out of 5 stars   \n",
                            "3     https://www.amazon.com/Xiaomi-POCO-M3-Smartpho...  4.7 out of 5 stars   \n",
                            "4     https://www.amazon.com/TCL-Unlocked-Smartphone...  4.5 out of 5 stars   \n",
                            "...                                                 ...                 ...   \n",
                            "2352  https://www.amazon.com/LG-Motion-Prepaid-Andro...  4.4 out of 5 stars   \n",
                            "2353  https://www.amazon.com/Blu-LIFE-8-Unlocked-Pin...  3.7 out of 5 stars   \n",
                            "2354  https://www.amazon.com/Blu-Dash-5-5-Unlocked-B...  4.0 out of 5 stars   \n",
                            "2355  https://www.amazon.com/Nokia-Lumia-920-Black-3...  3.8 out of 5 stars   \n",
                            "2356  https://www.amazon.com/Samsung-Galaxy-Rugby-Pr...  4.1 out of 5 stars   \n",
                            "\n",
                            "     review_count    price  \n",
                            "0             536   $83.99  \n",
                            "1              40   $67.99  \n",
                            "2             196  $189.99  \n",
                            "3             375     None  \n",
                            "4              47  $529.99  \n",
                            "...           ...      ...  \n",
                            "2352          299  $128.52  \n",
                            "2353          387  $194.03  \n",
                            "2354          131  $166.12  \n",
                            "2355          494  $299.99  \n",
                            "2356          139  $414.42  \n",
                            "\n",
                            "[1547 rows x 5 columns]"
                        ],
                        "text/html": [
                            "<div>\n",
                            "<style scoped>\n",
                            "    .dataframe tbody tr th:only-of-type {\n",
                            "        vertical-align: middle;\n",
                            "    }\n",
                            "\n",
                            "    .dataframe tbody tr th {\n",
                            "        vertical-align: top;\n",
                            "    }\n",
                            "\n",
                            "    .dataframe thead th {\n",
                            "        text-align: right;\n",
                            "    }\n",
                            "</style>\n",
                            "<table border=\"1\" class=\"dataframe\">\n",
                            "  <thead>\n",
                            "    <tr style=\"text-align: right;\">\n",
                            "      <th></th>\n",
                            "      <th>title</th>\n",
                            "      <th>url</th>\n",
                            "      <th>rating</th>\n",
                            "      <th>review_count</th>\n",
                            "      <th>price</th>\n",
                            "    </tr>\n",
                            "  </thead>\n",
                            "  <tbody>\n",
                            "    <tr>\n",
                            "      <th>0</th>\n",
                            "      <td>6.8 Inch Unlocked Smartphones,Xgody K30 Androi...</td>\n",
                            "      <td>https://www.amazon.com/gp/slredirect/picassoRe...</td>\n",
                            "      <td>2.9 out of 5 stars</td>\n",
                            "      <td>536</td>\n",
                            "      <td>$83.99</td>\n",
                            "    </tr>\n",
                            "    <tr>\n",
                            "      <th>1</th>\n",
                            "      <td>Xgody Mate40 Smartphone Unlocked, 6.72” HD Per...</td>\n",
                            "      <td>https://www.amazon.com/gp/slredirect/picassoRe...</td>\n",
                            "      <td>3.1 out of 5 stars</td>\n",
                            "      <td>40</td>\n",
                            "      <td>$67.99</td>\n",
                            "    </tr>\n",
                            "    <tr>\n",
                            "      <th>2</th>\n",
                            "      <td>TCL 20 SE 6.82\" Unlocked Cellphone, 4GB RAM + ...</td>\n",
                            "      <td>https://www.amazon.com/gp/slredirect/picassoRe...</td>\n",
                            "      <td>4.2 out of 5 stars</td>\n",
                            "      <td>196</td>\n",
                            "      <td>$189.99</td>\n",
                            "    </tr>\n",
                            "    <tr>\n",
                            "      <th>3</th>\n",
                            "      <td>Xiaomi POCO M3 Smartphone, 4 GB + 128 GB, 6.53...</td>\n",
                            "      <td>https://www.amazon.com/Xiaomi-POCO-M3-Smartpho...</td>\n",
                            "      <td>4.7 out of 5 stars</td>\n",
                            "      <td>375</td>\n",
                            "      <td>None</td>\n",
                            "    </tr>\n",
                            "    <tr>\n",
                            "      <th>4</th>\n",
                            "      <td>TCL 20 Pro 5G Unlocked Android Smartphone with...</td>\n",
                            "      <td>https://www.amazon.com/TCL-Unlocked-Smartphone...</td>\n",
                            "      <td>4.5 out of 5 stars</td>\n",
                            "      <td>47</td>\n",
                            "      <td>$529.99</td>\n",
                            "    </tr>\n",
                            "    <tr>\n",
                            "      <th>...</th>\n",
                            "      <td>...</td>\n",
                            "      <td>...</td>\n",
                            "      <td>...</td>\n",
                            "      <td>...</td>\n",
                            "      <td>...</td>\n",
                            "    </tr>\n",
                            "    <tr>\n",
                            "      <th>2352</th>\n",
                            "      <td>LG Motion 4G LTE Prepaid Android Phone (MetroPCS)</td>\n",
                            "      <td>https://www.amazon.com/LG-Motion-Prepaid-Andro...</td>\n",
                            "      <td>4.4 out of 5 stars</td>\n",
                            "      <td>299</td>\n",
                            "      <td>$128.52</td>\n",
                            "    </tr>\n",
                            "    <tr>\n",
                            "      <th>2353</th>\n",
                            "      <td>Blu LIFE 8 Unlocked (Pink)</td>\n",
                            "      <td>https://www.amazon.com/Blu-LIFE-8-Unlocked-Pin...</td>\n",
                            "      <td>3.7 out of 5 stars</td>\n",
                            "      <td>387</td>\n",
                            "      <td>$194.03</td>\n",
                            "    </tr>\n",
                            "    <tr>\n",
                            "      <th>2354</th>\n",
                            "      <td>Blu Dash 5.5 Unlocked (Blue)</td>\n",
                            "      <td>https://www.amazon.com/Blu-Dash-5-5-Unlocked-B...</td>\n",
                            "      <td>4.0 out of 5 stars</td>\n",
                            "      <td>131</td>\n",
                            "      <td>$166.12</td>\n",
                            "    </tr>\n",
                            "    <tr>\n",
                            "      <th>2355</th>\n",
                            "      <td>Nokia Lumia 920, Black 32GB (AT&amp;T)</td>\n",
                            "      <td>https://www.amazon.com/Nokia-Lumia-920-Black-3...</td>\n",
                            "      <td>3.8 out of 5 stars</td>\n",
                            "      <td>494</td>\n",
                            "      <td>$299.99</td>\n",
                            "    </tr>\n",
                            "    <tr>\n",
                            "      <th>2356</th>\n",
                            "      <td>Samsung Galaxy Rugby Pro, Black 8GB (AT&amp;T)</td>\n",
                            "      <td>https://www.amazon.com/Samsung-Galaxy-Rugby-Pr...</td>\n",
                            "      <td>4.1 out of 5 stars</td>\n",
                            "      <td>139</td>\n",
                            "      <td>$414.42</td>\n",
                            "    </tr>\n",
                            "  </tbody>\n",
                            "</table>\n",
                            "<p>1547 rows × 5 columns</p>\n",
                            "</div>"
                        ]
                    },
                    "metadata": {},
                    "execution_count": 3
                }
            ],
            "metadata": {}
        },
        {
            "cell_type": "code",
            "execution_count": 4,
            "source": [
                "# Checking the data type\n",
                "\n",
                "df.dtypes"
            ],
            "outputs": [
                {
                    "output_type": "execute_result",
                    "data": {
                        "text/plain": [
                            "title           object\n",
                            "url             object\n",
                            "rating          object\n",
                            "review_count    object\n",
                            "price           object\n",
                            "dtype: object"
                        ]
                    },
                    "metadata": {},
                    "execution_count": 4
                }
            ],
            "metadata": {}
        },
        {
            "cell_type": "code",
            "execution_count": 5,
            "source": [
                "df.isnull().sum()"
            ],
            "outputs": [
                {
                    "output_type": "execute_result",
                    "data": {
                        "text/plain": [
                            "title              0\n",
                            "url                0\n",
                            "rating             0\n",
                            "review_count       0\n",
                            "price           1002\n",
                            "dtype: int64"
                        ]
                    },
                    "metadata": {},
                    "execution_count": 5
                }
            ],
            "metadata": {}
        },
        {
            "cell_type": "code",
            "execution_count": 6,
            "source": [
                "df = df.dropna()"
            ],
            "outputs": [],
            "metadata": {}
        },
        {
            "cell_type": "code",
            "execution_count": 7,
            "source": [
                "df.isnull().sum()"
            ],
            "outputs": [
                {
                    "output_type": "execute_result",
                    "data": {
                        "text/plain": [
                            "title           0\n",
                            "url             0\n",
                            "rating          0\n",
                            "review_count    0\n",
                            "price           0\n",
                            "dtype: int64"
                        ]
                    },
                    "metadata": {},
                    "execution_count": 7
                }
            ],
            "metadata": {}
        },
        {
            "cell_type": "code",
            "execution_count": 8,
            "source": [
                "df.shape"
            ],
            "outputs": [
                {
                    "output_type": "execute_result",
                    "data": {
                        "text/plain": [
                            "(545, 5)"
                        ]
                    },
                    "metadata": {},
                    "execution_count": 8
                }
            ],
            "metadata": {}
        },
        {
            "cell_type": "code",
            "execution_count": null,
            "source": [
                "# Price column: remove '$' and ',', also change the type to float\n",
                "\n",
                "df['price'] = df['price'].str.replace(',', '')\n",
                "df['price'] = df['price'].str.replace('$', '')\n",
                "df['price'] = df['price'].astype(float)"
            ],
            "outputs": [],
            "metadata": {}
        },
        {
            "cell_type": "code",
            "execution_count": null,
            "source": [
                "# Review_count cloumn: remove ',', also change the type to float\n",
                "\n",
                "df['review_count'] = df['review_count'].str.replace(',', '')\n",
                "df['review_count'] = df['review_count'].astype(float)\n",
                "df['review_count'] = df['review_count'].astype(int)"
            ],
            "outputs": [],
            "metadata": {}
        },
        {
            "cell_type": "code",
            "execution_count": null,
            "source": [
                "# Rating column: Extract ONLY product rating form the column\n",
                "\n",
                "df.rating = df.rating.astype('category')\n",
                "df['rating'] = df['rating'].str.extract(\"(\\d*\\.?\\d+)\", expand=True)"
            ],
            "outputs": [],
            "metadata": {}
        },
        {
            "cell_type": "code",
            "execution_count": null,
            "source": [
                "df.dtypes"
            ],
            "outputs": [],
            "metadata": {}
        },
        {
            "cell_type": "code",
            "execution_count": null,
            "source": [
                "df"
            ],
            "outputs": [],
            "metadata": {}
        },
        {
            "cell_type": "code",
            "execution_count": null,
            "source": [
                "df.groupby(['title'])['rating'].count().sort_values(ascending = False)"
            ],
            "outputs": [],
            "metadata": {}
        },
        {
            "cell_type": "code",
            "execution_count": null,
            "source": [
                "#df[df['title']=='Nokia G10 | Android 11 | Unlocked Smartphone | 3-Day Battery | Dual SIM | US Version | 3/32GB | 6.52-Inch Screen | 13MP Triple Camera | Dusk'].sort_values(by='title', ascending=False)"
            ],
            "outputs": [],
            "metadata": {}
        },
        {
            "cell_type": "code",
            "execution_count": null,
            "source": [
                "#df = df.drop_duplicates(subset=['title'])\n",
                "#df"
            ],
            "outputs": [],
            "metadata": {}
        },
        {
            "cell_type": "code",
            "execution_count": null,
            "source": [
                "# Inserting 'product name' column at the start\n",
                "\n",
                "df.insert(0, 'Product', 'Smartphone')"
            ],
            "outputs": [],
            "metadata": {}
        },
        {
            "cell_type": "code",
            "execution_count": null,
            "source": [
                "df"
            ],
            "outputs": [],
            "metadata": {}
        }
    ],
    "metadata": {
        "orig_nbformat": 4,
        "language_info": {
            "name": "python",
            "version": "3.9.5",
            "mimetype": "text/x-python",
            "codemirror_mode": {
                "name": "ipython",
                "version": 3
            },
            "pygments_lexer": "ipython3",
            "nbconvert_exporter": "python",
            "file_extension": ".py"
        },
        "kernelspec": {
            "name": "python3",
            "display_name": "Python 3.9.5 64-bit"
        },
        "interpreter": {
            "hash": "397704579725e15f5c7cb49fe5f0341eb7531c82d19f2c29d197e8b64ab5776b"
        }
    },
    "nbformat": 4,
    "nbformat_minor": 2
}