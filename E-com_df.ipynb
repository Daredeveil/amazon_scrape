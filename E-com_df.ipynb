{
 "cells": [
  {
   "cell_type": "code",
   "execution_count": 1,
   "source": [
    "import numpy as np\n",
    "import pandas as pd\n",
    "\n",
    "import warnings\n",
    "warnings.filterwarnings(\"ignore\")"
   ],
   "outputs": [],
   "metadata": {}
  },
  {
   "cell_type": "code",
   "execution_count": 2,
   "source": [
    "# Create DataFrame from output_json files\n",
    "\n",
    "df_lt = pd.read_json('1-Laptops/search_laptop_output.jsonl')\n",
    "df_mon = pd.read_json('2-Monitors/search_monitor_output.jsonl')\n",
    "df_pr = pd.read_json('3-Processor/search_processor_output.jsonl')\n",
    "df_mo = pd.read_json('4-Mouse/search_mouse_output.jsonl')\n",
    "df_ke = pd.read_json('5-Keyboard/search_keyboard_output.jsonl')\n",
    "df_ds = pd.read_json('6-DSLR_Cameras/search_dslr_output.jsonl')\n",
    "df_sm = pd.read_json('7-Smartphones/search_smartphone_output.jsonl')\n",
    "df_he = pd.read_json('8-Headphones/search_headphone_output.jsonl')"
   ],
   "outputs": [],
   "metadata": {}
  },
  {
   "cell_type": "code",
   "execution_count": 3,
   "source": [
    "# Inserting 'product name' column at the start\n",
    "\n",
    "df_lt.insert(0, 'Product', 'Laptop')\n",
    "df_mon.insert(0, 'Product', 'Monitor')\n",
    "df_pr.insert(0, 'Product', 'Processor')\n",
    "df_mo.insert(0, 'Product', 'Mouse')\n",
    "df_ke.insert(0, 'Product', 'Keyboard')\n",
    "df_ds.insert(0, 'Product', 'DSLR')\n",
    "df_sm.insert(0, 'Product', 'Smartphone')\n",
    "df_he.insert(0, 'Product', 'Headphone')"
   ],
   "outputs": [],
   "metadata": {}
  },
  {
   "cell_type": "code",
   "execution_count": 4,
   "source": [
    "# Deleting duplicate values in the title column\n",
    "\n",
    "df_lt = df_lt.drop_duplicates(subset=['title'])\n",
    "df_mon = df_mon.drop_duplicates(subset=['title'])\n",
    "df_pr = df_pr.drop_duplicates(subset=['title'])\n",
    "df_mo = df_mo.drop_duplicates(subset=['title'])\n",
    "df_ke = df_ke.drop_duplicates(subset=['title'])\n",
    "df_ds = df_ds.drop_duplicates(subset=['title'])\n",
    "df_sm = df_sm.drop_duplicates(subset=['title'])\n",
    "df_he = df_he.drop_duplicates(subset=['title'])"
   ],
   "outputs": [],
   "metadata": {}
  },
  {
   "cell_type": "code",
   "execution_count": 5,
   "source": [
    "# Combine all products\n",
    "\n",
    "df = pd.concat([df_lt,df_mon,df_pr,df_mo,df_ke,df_ds,df_sm,df_he], ignore_index=True)\n",
    "df"
   ],
   "outputs": [
    {
     "output_type": "execute_result",
     "data": {
      "text/html": [
       "<div>\n",
       "<style scoped>\n",
       "    .dataframe tbody tr th:only-of-type {\n",
       "        vertical-align: middle;\n",
       "    }\n",
       "\n",
       "    .dataframe tbody tr th {\n",
       "        vertical-align: top;\n",
       "    }\n",
       "\n",
       "    .dataframe thead th {\n",
       "        text-align: right;\n",
       "    }\n",
       "</style>\n",
       "<table border=\"1\" class=\"dataframe\">\n",
       "  <thead>\n",
       "    <tr style=\"text-align: right;\">\n",
       "      <th></th>\n",
       "      <th>Product</th>\n",
       "      <th>title</th>\n",
       "      <th>url</th>\n",
       "      <th>rating</th>\n",
       "      <th>review_count</th>\n",
       "      <th>price</th>\n",
       "    </tr>\n",
       "  </thead>\n",
       "  <tbody>\n",
       "    <tr>\n",
       "      <th>0</th>\n",
       "      <td>Laptop</td>\n",
       "      <td>2021 Newest Lenovo Ideapad 3 Laptop, 15.6 Full...</td>\n",
       "      <td>https://www.amazon.com/gp/slredirect/picassoRe...</td>\n",
       "      <td>4.5 out of 5 stars</td>\n",
       "      <td>238</td>\n",
       "      <td>$529.00</td>\n",
       "    </tr>\n",
       "    <tr>\n",
       "      <th>1</th>\n",
       "      <td>Laptop</td>\n",
       "      <td>2021 Newest Acer Aspire 3 17.3'' HD+ Laptop, 4...</td>\n",
       "      <td>https://www.amazon.com/gp/slredirect/picassoRe...</td>\n",
       "      <td>5.0 out of 5 stars</td>\n",
       "      <td>1</td>\n",
       "      <td>$749.99</td>\n",
       "    </tr>\n",
       "    <tr>\n",
       "      <th>2</th>\n",
       "      <td>Laptop</td>\n",
       "      <td>Acer Aspire 5 A515-46-R14K Slim Laptop | 15.6\"...</td>\n",
       "      <td>https://www.amazon.com/Acer-A515-46-R14K-Quad-...</td>\n",
       "      <td>4.6 out of 5 stars</td>\n",
       "      <td>34,163</td>\n",
       "      <td>$365.00</td>\n",
       "    </tr>\n",
       "    <tr>\n",
       "      <th>3</th>\n",
       "      <td>Laptop</td>\n",
       "      <td>HP 15 Laptop, 11th Gen Intel Core i5-1135G7 Pr...</td>\n",
       "      <td>https://www.amazon.com/HP-i5-1135G7-Processor-...</td>\n",
       "      <td>4.6 out of 5 stars</td>\n",
       "      <td>1,050</td>\n",
       "      <td>$565.00</td>\n",
       "    </tr>\n",
       "    <tr>\n",
       "      <th>4</th>\n",
       "      <td>Laptop</td>\n",
       "      <td>HP Pavilion x360 14” Touchscreen Laptop, 11th ...</td>\n",
       "      <td>https://www.amazon.com/HP-Touchscreen-i5-1135G...</td>\n",
       "      <td>4.5 out of 5 stars</td>\n",
       "      <td>189</td>\n",
       "      <td>$659.00</td>\n",
       "    </tr>\n",
       "    <tr>\n",
       "      <th>...</th>\n",
       "      <td>...</td>\n",
       "      <td>...</td>\n",
       "      <td>...</td>\n",
       "      <td>...</td>\n",
       "      <td>...</td>\n",
       "      <td>...</td>\n",
       "    </tr>\n",
       "    <tr>\n",
       "      <th>14427</th>\n",
       "      <td>Headphone</td>\n",
       "      <td>Earbuds Wireless Bluetooth Sports Headphones -...</td>\n",
       "      <td>https://www.amazon.com/Earbuds-Wireless-Blueto...</td>\n",
       "      <td>4.5 out of 5 stars</td>\n",
       "      <td>16</td>\n",
       "      <td>$35.99</td>\n",
       "    </tr>\n",
       "    <tr>\n",
       "      <th>14428</th>\n",
       "      <td>Headphone</td>\n",
       "      <td>Headsets Splitter Adapter, DUKABEL 3.5mm Jack ...</td>\n",
       "      <td>https://www.amazon.com/Headsets-Splitter-Separ...</td>\n",
       "      <td>4.3 out of 5 stars</td>\n",
       "      <td>2,098</td>\n",
       "      <td>$8.49</td>\n",
       "    </tr>\n",
       "    <tr>\n",
       "      <th>14429</th>\n",
       "      <td>Headphone</td>\n",
       "      <td>Kids Headphones for Classroom in Bulk, Keewond...</td>\n",
       "      <td>https://www.amazon.com/Headphones-Classroom-Ke...</td>\n",
       "      <td>3.7 out of 5 stars</td>\n",
       "      <td>33</td>\n",
       "      <td>$17.99</td>\n",
       "    </tr>\n",
       "    <tr>\n",
       "      <th>14430</th>\n",
       "      <td>Headphone</td>\n",
       "      <td>JBL Tune 125 - Bluetooth Wireless in-Ear Headp...</td>\n",
       "      <td>https://www.amazon.com/JBL-Tune-125-Ear-Headph...</td>\n",
       "      <td>5.0 out of 5 stars</td>\n",
       "      <td>1</td>\n",
       "      <td>None</td>\n",
       "    </tr>\n",
       "    <tr>\n",
       "      <th>14431</th>\n",
       "      <td>Headphone</td>\n",
       "      <td>Motorola Escape 220 - Wireless Bluetooth Headp...</td>\n",
       "      <td>https://www.amazon.com/Motorola-Escape-220-Hea...</td>\n",
       "      <td>3.7 out of 5 stars</td>\n",
       "      <td>343</td>\n",
       "      <td>None</td>\n",
       "    </tr>\n",
       "  </tbody>\n",
       "</table>\n",
       "<p>14432 rows × 6 columns</p>\n",
       "</div>"
      ],
      "text/plain": [
       "         Product                                              title  \\\n",
       "0         Laptop  2021 Newest Lenovo Ideapad 3 Laptop, 15.6 Full...   \n",
       "1         Laptop  2021 Newest Acer Aspire 3 17.3'' HD+ Laptop, 4...   \n",
       "2         Laptop  Acer Aspire 5 A515-46-R14K Slim Laptop | 15.6\"...   \n",
       "3         Laptop  HP 15 Laptop, 11th Gen Intel Core i5-1135G7 Pr...   \n",
       "4         Laptop  HP Pavilion x360 14” Touchscreen Laptop, 11th ...   \n",
       "...          ...                                                ...   \n",
       "14427  Headphone  Earbuds Wireless Bluetooth Sports Headphones -...   \n",
       "14428  Headphone  Headsets Splitter Adapter, DUKABEL 3.5mm Jack ...   \n",
       "14429  Headphone  Kids Headphones for Classroom in Bulk, Keewond...   \n",
       "14430  Headphone  JBL Tune 125 - Bluetooth Wireless in-Ear Headp...   \n",
       "14431  Headphone  Motorola Escape 220 - Wireless Bluetooth Headp...   \n",
       "\n",
       "                                                     url              rating  \\\n",
       "0      https://www.amazon.com/gp/slredirect/picassoRe...  4.5 out of 5 stars   \n",
       "1      https://www.amazon.com/gp/slredirect/picassoRe...  5.0 out of 5 stars   \n",
       "2      https://www.amazon.com/Acer-A515-46-R14K-Quad-...  4.6 out of 5 stars   \n",
       "3      https://www.amazon.com/HP-i5-1135G7-Processor-...  4.6 out of 5 stars   \n",
       "4      https://www.amazon.com/HP-Touchscreen-i5-1135G...  4.5 out of 5 stars   \n",
       "...                                                  ...                 ...   \n",
       "14427  https://www.amazon.com/Earbuds-Wireless-Blueto...  4.5 out of 5 stars   \n",
       "14428  https://www.amazon.com/Headsets-Splitter-Separ...  4.3 out of 5 stars   \n",
       "14429  https://www.amazon.com/Headphones-Classroom-Ke...  3.7 out of 5 stars   \n",
       "14430  https://www.amazon.com/JBL-Tune-125-Ear-Headph...  5.0 out of 5 stars   \n",
       "14431  https://www.amazon.com/Motorola-Escape-220-Hea...  3.7 out of 5 stars   \n",
       "\n",
       "      review_count    price  \n",
       "0              238  $529.00  \n",
       "1                1  $749.99  \n",
       "2           34,163  $365.00  \n",
       "3            1,050  $565.00  \n",
       "4              189  $659.00  \n",
       "...            ...      ...  \n",
       "14427           16   $35.99  \n",
       "14428        2,098    $8.49  \n",
       "14429           33   $17.99  \n",
       "14430            1     None  \n",
       "14431          343     None  \n",
       "\n",
       "[14432 rows x 6 columns]"
      ]
     },
     "metadata": {},
     "execution_count": 5
    }
   ],
   "metadata": {}
  },
  {
   "cell_type": "code",
   "execution_count": 6,
   "source": [
    "# Checking the data type\n",
    "\n",
    "df.dtypes"
   ],
   "outputs": [
    {
     "output_type": "execute_result",
     "data": {
      "text/plain": [
       "Product         object\n",
       "title           object\n",
       "url             object\n",
       "rating          object\n",
       "review_count    object\n",
       "price           object\n",
       "dtype: object"
      ]
     },
     "metadata": {},
     "execution_count": 6
    }
   ],
   "metadata": {}
  },
  {
   "cell_type": "code",
   "execution_count": 7,
   "source": [
    "# Checking empty rows\n",
    "\n",
    "df.isnull().sum()"
   ],
   "outputs": [
    {
     "output_type": "execute_result",
     "data": {
      "text/plain": [
       "Product            0\n",
       "title              0\n",
       "url                0\n",
       "rating          2138\n",
       "review_count    2138\n",
       "price           4731\n",
       "dtype: int64"
      ]
     },
     "metadata": {},
     "execution_count": 7
    }
   ],
   "metadata": {}
  },
  {
   "cell_type": "code",
   "execution_count": 8,
   "source": [
    "# Deleting empty rows\n",
    "\n",
    "df = df.dropna()"
   ],
   "outputs": [],
   "metadata": {}
  },
  {
   "cell_type": "code",
   "execution_count": 9,
   "source": [
    "# Checking empty rows\n",
    "\n",
    "df.isnull().sum()"
   ],
   "outputs": [
    {
     "output_type": "execute_result",
     "data": {
      "text/plain": [
       "Product         0\n",
       "title           0\n",
       "url             0\n",
       "rating          0\n",
       "review_count    0\n",
       "price           0\n",
       "dtype: int64"
      ]
     },
     "metadata": {},
     "execution_count": 9
    }
   ],
   "metadata": {}
  },
  {
   "cell_type": "code",
   "execution_count": 10,
   "source": [
    "# Price column: remove '$' and ',', also change the type to float\n",
    "\n",
    "df['price'] = df['price'].str.replace(',', '')\n",
    "df['price'] = df['price'].str.replace('$', '')\n",
    "df['price'] = df['price'].astype(float)"
   ],
   "outputs": [],
   "metadata": {}
  },
  {
   "cell_type": "code",
   "execution_count": 11,
   "source": [
    "# Review_count cloumn: remove ',', also change the type to float\n",
    "\n",
    "df['review_count'] = df['review_count'].str.replace(',', '')\n",
    "df['review_count'] = df['review_count'].astype(float)\n",
    "df['review_count'] = df['review_count'].astype(int)"
   ],
   "outputs": [],
   "metadata": {}
  },
  {
   "cell_type": "code",
   "execution_count": 12,
   "source": [
    "# Rating column: Extract ONLY product 'rating' from the column\n",
    "\n",
    "df.rating = df.rating.astype('category')\n",
    "df['rating'] = df['rating'].str.extract(\"(\\d*\\.?\\d+)\", expand=True)"
   ],
   "outputs": [],
   "metadata": {}
  },
  {
   "cell_type": "code",
   "execution_count": 13,
   "source": [
    "# Checking data type\n",
    "\n",
    "df.dtypes"
   ],
   "outputs": [
    {
     "output_type": "execute_result",
     "data": {
      "text/plain": [
       "Product          object\n",
       "title            object\n",
       "url              object\n",
       "rating           object\n",
       "review_count      int64\n",
       "price           float64\n",
       "dtype: object"
      ]
     },
     "metadata": {},
     "execution_count": 13
    }
   ],
   "metadata": {}
  },
  {
   "cell_type": "code",
   "execution_count": 14,
   "source": [
    "# Counting values based on 'title' column\n",
    "\n",
    "df.groupby(['title'])['rating'].count().sort_values(ascending = False)"
   ],
   "outputs": [
    {
     "output_type": "execute_result",
     "data": {
      "text/plain": [
       "title\n",
       "Acer Predator Helios 300 PH315-54-760S Gaming Laptop | Intel i7-11800H | NVIDIA GeForce RTX 3060 Laptop GPU | 15.6\" Full HD 144Hz 3ms IPS Display | 16GB DDR4 | 512GB SSD | Killer WiFi 6 | RGB Keyboard    3\n",
       "HP Elitebook 840 G3 Laptop Intel i7-6600U 2.6GHz, 16GB RAM, 512GB SSD, Windows 10 Pro (Renewed)                                                                                                             2\n",
       "New HP 15.6\" HD Touchscreen Laptop Intel Core i3-1005G1 8GB DDR4 RAM 128GB SSD HDMI Bluetooth 802.11/b/g/n/ac Windows 10 15-dy1731ms Silver                                                                 2\n",
       "HP Elitebook 840 G1 14.0 Inch High Performanc Laptop Computer, Intel i5 4300U up to 2.9GHz, 16GB Memory, 256GB SSD, USB 3.0, Bluetooth, Window 10 Professional (Renewed)                                    2\n",
       "GVM Teleprompters for ipad Smartphone Tablet DSLR Camera Portable 10.5\" Teleprompter Kit with Remote Control & App,Solid Aluminum Constructions,Colorless Spectroscope,Ultra HD Wide-Angle Lens             2\n",
       "                                                                                                                                                                                                           ..\n",
       "Fintie Folio Keyboard Case for Samsung Galaxy Tab A 10.1 2019 Model SM-T510/T515/T517, Premium PU Leather Stand Cover with Removable Wireless Bluetooth Keyboard, Composition                               1\n",
       "Fintie Folio Case for All-New Amazon Fire HD 10 and Fire HD 10 Plus Tablet (Only Compatible with 11th Generation 2021 Release) - Slim Fit Standing Cover with Auto Sleep/Wake, Love Tree                    1\n",
       "Fintie 9-Inch Ultrathin (4mm) Wireless Bluetooth Keyboard for iOS (iPad 9.7 Inch 2018/2017, iPad Air 2, iPad Air, iPad Pro 9.7, iPad 2/3 /4, iPad First Generation) Function Keys for iOS, (Black)          1\n",
       "Fintie 7-Inch Ultrathin (4mm) Wireless Bluetooth Keyboard for Android Tablet Samsung Galaxy Tab E/Tab A/Tab S, ASUS, Lenovo and Other Android Devices                                                       1\n",
       "LG 24MD4KL-B 24\" Ultrafine 4K UHD IPS LED Monitor with Built-in Speakers, 3840x2160 (Renewed)                                                                                                               1\n",
       "Name: rating, Length: 8127, dtype: int64"
      ]
     },
     "metadata": {},
     "execution_count": 14
    }
   ],
   "metadata": {}
  },
  {
   "cell_type": "code",
   "execution_count": 20,
   "source": [
    "# Checking value w.r.t 'Product'\n",
    "\n",
    "df[df['title']== 'Acer Predator Helios 300 PH315-54-760S Gaming Laptop | Intel i7-11800H | NVIDIA GeForce RTX 3060 Laptop GPU | 15.6\" Full HD 144Hz 3ms IPS Display | 16GB DDR4 | 512GB SSD | Killer WiFi 6 | RGB Keyboard']"
   ],
   "outputs": [
    {
     "output_type": "execute_result",
     "data": {
      "text/html": [
       "<div>\n",
       "<style scoped>\n",
       "    .dataframe tbody tr th:only-of-type {\n",
       "        vertical-align: middle;\n",
       "    }\n",
       "\n",
       "    .dataframe tbody tr th {\n",
       "        vertical-align: top;\n",
       "    }\n",
       "\n",
       "    .dataframe thead th {\n",
       "        text-align: right;\n",
       "    }\n",
       "</style>\n",
       "<table border=\"1\" class=\"dataframe\">\n",
       "  <thead>\n",
       "    <tr style=\"text-align: right;\">\n",
       "      <th></th>\n",
       "      <th>Product</th>\n",
       "      <th>title</th>\n",
       "      <th>url</th>\n",
       "      <th>rating</th>\n",
       "      <th>review_count</th>\n",
       "      <th>price</th>\n",
       "    </tr>\n",
       "  </thead>\n",
       "  <tbody>\n",
       "    <tr>\n",
       "      <th>28</th>\n",
       "      <td>Laptop</td>\n",
       "      <td>Acer Predator Helios 300 PH315-54-760S Gaming ...</td>\n",
       "      <td>https://www.amazon.com/Acer-Predator-PH315-54-...</td>\n",
       "      <td>4.7</td>\n",
       "      <td>3441</td>\n",
       "      <td>1444.95</td>\n",
       "    </tr>\n",
       "    <tr>\n",
       "      <th>4763</th>\n",
       "      <td>Processor</td>\n",
       "      <td>Acer Predator Helios 300 PH315-54-760S Gaming ...</td>\n",
       "      <td>https://www.amazon.com/Acer-Predator-PH315-54-...</td>\n",
       "      <td>4.7</td>\n",
       "      <td>3440</td>\n",
       "      <td>1444.95</td>\n",
       "    </tr>\n",
       "    <tr>\n",
       "      <th>8112</th>\n",
       "      <td>Keyboard</td>\n",
       "      <td>Acer Predator Helios 300 PH315-54-760S Gaming ...</td>\n",
       "      <td>https://www.amazon.com/Acer-Predator-PH315-54-...</td>\n",
       "      <td>4.7</td>\n",
       "      <td>3442</td>\n",
       "      <td>1444.95</td>\n",
       "    </tr>\n",
       "  </tbody>\n",
       "</table>\n",
       "</div>"
      ],
      "text/plain": [
       "        Product                                              title  \\\n",
       "28       Laptop  Acer Predator Helios 300 PH315-54-760S Gaming ...   \n",
       "4763  Processor  Acer Predator Helios 300 PH315-54-760S Gaming ...   \n",
       "8112   Keyboard  Acer Predator Helios 300 PH315-54-760S Gaming ...   \n",
       "\n",
       "                                                    url rating  review_count  \\\n",
       "28    https://www.amazon.com/Acer-Predator-PH315-54-...    4.7          3441   \n",
       "4763  https://www.amazon.com/Acer-Predator-PH315-54-...    4.7          3440   \n",
       "8112  https://www.amazon.com/Acer-Predator-PH315-54-...    4.7          3442   \n",
       "\n",
       "        price  \n",
       "28    1444.95  \n",
       "4763  1444.95  \n",
       "8112  1444.95  "
      ]
     },
     "metadata": {},
     "execution_count": 20
    }
   ],
   "metadata": {}
  },
  {
   "cell_type": "code",
   "execution_count": 16,
   "source": [
    "# Counting items for all products\n",
    "\n",
    "df.groupby(['Product'])['rating'].count().sort_values(ascending = False)"
   ],
   "outputs": [
    {
     "output_type": "execute_result",
     "data": {
      "text/plain": [
       "Product\n",
       "Headphone     1095\n",
       "Monitor       1076\n",
       "DSLR          1070\n",
       "Keyboard      1070\n",
       "Mouse         1040\n",
       "Smartphone    1023\n",
       "Laptop        1004\n",
       "Processor     1001\n",
       "Name: rating, dtype: int64"
      ]
     },
     "metadata": {},
     "execution_count": 16
    }
   ],
   "metadata": {}
  }
 ],
 "metadata": {
  "orig_nbformat": 4,
  "language_info": {
   "name": "python",
   "version": "3.9.5",
   "mimetype": "text/x-python",
   "codemirror_mode": {
    "name": "ipython",
    "version": 3
   },
   "pygments_lexer": "ipython3",
   "nbconvert_exporter": "python",
   "file_extension": ".py"
  },
  "kernelspec": {
   "name": "python3",
   "display_name": "Python 3.9.5 64-bit"
  },
  "interpreter": {
   "hash": "397704579725e15f5c7cb49fe5f0341eb7531c82d19f2c29d197e8b64ab5776b"
  }
 },
 "nbformat": 4,
 "nbformat_minor": 2
}